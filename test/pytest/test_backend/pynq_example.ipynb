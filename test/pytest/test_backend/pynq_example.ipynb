{
 "cells": [
  {
   "cell_type": "code",
   "execution_count": null,
   "id": "a0e69eaf",
   "metadata": {},
   "outputs": [],
   "source": [
    "# import the library\n",
    "from pynq import Overlay     # import the overlay\n",
    "from pynq import allocate    # import for CMA (contingeous memory allocation)\n",
    "from pynq import DefaultIP   # import the ip connector library for extension\n",
    "from pynq import Interrupt\n",
    "import pynq_driver\n",
    "import asyncio\n",
    "import numpy as np\n",
    "import os\n",
    "import subprocess\n",
    "import re\n",
    "import time"
   ]
  },
  {
   "cell_type": "code",
   "execution_count": null,
   "id": "89082d04",
   "metadata": {},
   "outputs": [
    {
     "data": {
      "application/javascript": "\ntry {\nrequire(['notebook/js/codecell'], function(codecell) {\n  codecell.CodeCell.options_default.highlight_modes[\n      'magic_text/x-csrc'] = {'reg':[/^%%microblaze/]};\n  Jupyter.notebook.events.one('kernel_ready.Kernel', function(){\n      Jupyter.notebook.get_cells().map(function(cell){\n          if (cell.cell_type == 'code'){ cell.auto_highlight(); } }) ;\n  });\n});\n} catch (e) {};\n"
     },
     "metadata": {},
     "output_type": "display_data"
    },
    {
     "data": {
      "application/javascript": "\ntry {\nrequire(['notebook/js/codecell'], function(codecell) {\n  codecell.CodeCell.options_default.highlight_modes[\n      'magic_text/x-csrc'] = {'reg':[/^%%pybind11/]};\n  Jupyter.notebook.events.one('kernel_ready.Kernel', function(){\n      Jupyter.notebook.get_cells().map(function(cell){\n          if (cell.cell_type == 'code'){ cell.auto_highlight(); } }) ;\n  });\n});\n} catch (e) {};\n"
     },
     "metadata": {},
     "output_type": "display_data"
    }
   ],
   "source": [
    "overlay = Overlay(\"system.bit\")\n",
    "help(overlay)"
   ]
  },
  {
   "cell_type": "code",
   "execution_count": null,
   "id": "b19361e3",
   "metadata": {},
   "outputs": [],
   "source": [
    "\n",
    "overlay.interrupt_pins"
   ]
  },
  {
   "cell_type": "code",
   "execution_count": null,
   "id": "0e5b0e03",
   "metadata": {},
   "outputs": [],
   "source": [
    "# create an instance of the interrupt\n",
    "my_interrupt = Interrupt()"
   ]
  },
  {
   "cell_type": "code",
   "execution_count": null,
   "id": "9459e8ae",
   "metadata": {},
   "outputs": [],
   "source": [
    "# Load input from .npy file\n",
    "input_array  = np.load(\"inputGenbit.npy\").astype(np.float32)  # shape (20,4,4,1)\n",
    "output_array = np.zeros(input_array.shape, dtype=np.float32)\n",
    "\n",
    "# Allocate physically contiguous memory for input and output\n",
    "input_buffer = allocate(shape=input_array.shape, dtype=np.float32)\n",
    "output_buffer = allocate(shape=output_array.shape, dtype=np.float32)"
   ]
  },
  {
   "cell_type": "code",
   "execution_count": null,
   "id": "625c2b1f",
   "metadata": {},
   "outputs": [
    {
     "name": "stdout",
     "output_type": "stream",
     "text": [
      "input array shape (10000, 4, 4, 1)\n",
      "output array shape (10000, 4, 4, 1)\n"
     ]
    }
   ],
   "source": [
    "# check input shape\n",
    "print(f\"input array shape {input_array.shape}\")\n",
    "print(f\"output array shape {output_array.shape}\")"
   ]
  },
  {
   "cell_type": "code",
   "execution_count": null,
   "id": "7de66a89",
   "metadata": {},
   "outputs": [],
   "source": [
    "# copy data to input buffer\n",
    "np.copyto(input_buffer, input_array)\n",
    "input_buffer.flush()"
   ]
  },
  {
   "cell_type": "code",
   "execution_count": null,
   "id": "d18bac75",
   "metadata": {},
   "outputs": [],
   "source": [
    "# get the ip and initialize the system\n",
    "ip = overlay.myproject_gem_1  # Replace with your IP instance name\n",
    "ip.set_input (0, input_buffer)\n",
    "ip.set_output(0, output_buffer)\n",
    "ip.set_amt_query(input_array.shape[0])\n",
    "ip.prepare_intr()"
   ]
  },
  {
   "cell_type": "code",
   "execution_count": null,
   "id": "d12a031a",
   "metadata": {},
   "outputs": [],
   "source": [
    "async def wait_for_acc():\n",
    "    print(\"starting the accelerator\")\n",
    "    ip.ctrl_start()\n",
    "    print(\"waiting for the accelerator to finish\")\n",
    "    await my_interrupt.wait()\n",
    "    print(\"accelerator has finished\")\n"
   ]
  },
  {
   "cell_type": "code",
   "execution_count": null,
   "id": "81750e60",
   "metadata": {},
   "outputs": [],
   "source": [
    "#### get event loop from asyncio\n",
    "loop = asyncio.get_event_loop()"
   ]
  },
  {
   "cell_type": "code",
   "execution_count": null,
   "id": "fe5f7eb2",
   "metadata": {},
   "outputs": [],
   "source": [
    "task = loop.create_task(wait_for_acc())\n",
    "loop.run_until_complete(task)"
   ]
  },
  {
   "cell_type": "code",
   "execution_count": 14,
   "id": "372b1982",
   "metadata": {},
   "outputs": [],
   "source": [
    "output_buffer.invalidate()"
   ]
  },
  {
   "cell_type": "code",
   "execution_count": 15,
   "id": "6a7834c2",
   "metadata": {},
   "outputs": [
    {
     "name": "stdout",
     "output_type": "stream",
     "text": [
      "[[[[0.5       ]\n",
      "   [0.5       ]\n",
      "   [0.5       ]\n",
      "   [0.5       ]]\n",
      "\n",
      "  [[0.49609375]\n",
      "   [0.49609375]\n",
      "   [0.49609375]\n",
      "   [0.5       ]]\n",
      "\n",
      "  [[0.5       ]\n",
      "   [0.5       ]\n",
      "   [0.5       ]\n",
      "   [0.5       ]]\n",
      "\n",
      "  [[0.5       ]\n",
      "   [0.5       ]\n",
      "   [0.5       ]\n",
      "   [0.5029297 ]]]\n",
      "\n",
      "\n",
      " [[[0.5       ]\n",
      "   [0.5       ]\n",
      "   [0.49609375]\n",
      "   [0.5       ]]\n",
      "\n",
      "  [[0.5       ]\n",
      "   [0.5       ]\n",
      "   [0.5       ]\n",
      "   [0.5       ]]\n",
      "\n",
      "  [[0.49609375]\n",
      "   [0.49609375]\n",
      "   [0.5       ]\n",
      "   [0.5       ]]\n",
      "\n",
      "  [[0.5       ]\n",
      "   [0.5       ]\n",
      "   [0.5       ]\n",
      "   [0.5       ]]]\n",
      "\n",
      "\n",
      " [[[0.5       ]\n",
      "   [0.48828125]\n",
      "   [0.49609375]\n",
      "   [0.49609375]]\n",
      "\n",
      "  [[0.5       ]\n",
      "   [0.48828125]\n",
      "   [0.5       ]\n",
      "   [0.5       ]]\n",
      "\n",
      "  [[0.49609375]\n",
      "   [0.49609375]\n",
      "   [0.49609375]\n",
      "   [0.5       ]]\n",
      "\n",
      "  [[0.5       ]\n",
      "   [0.5       ]\n",
      "   [0.5       ]\n",
      "   [0.5       ]]]\n",
      "\n",
      "\n",
      " ...\n",
      "\n",
      "\n",
      " [[[0.5       ]\n",
      "   [0.49609375]\n",
      "   [0.5       ]\n",
      "   [0.5       ]]\n",
      "\n",
      "  [[0.5       ]\n",
      "   [0.49609375]\n",
      "   [0.5       ]\n",
      "   [0.5029297 ]]\n",
      "\n",
      "  [[0.5       ]\n",
      "   [0.49609375]\n",
      "   [0.5       ]\n",
      "   [0.5029297 ]]\n",
      "\n",
      "  [[0.5       ]\n",
      "   [0.5       ]\n",
      "   [0.5       ]\n",
      "   [0.5       ]]]\n",
      "\n",
      "\n",
      " [[[0.5       ]\n",
      "   [0.4921875 ]\n",
      "   [0.49609375]\n",
      "   [0.5       ]]\n",
      "\n",
      "  [[0.5       ]\n",
      "   [0.4921875 ]\n",
      "   [0.48828125]\n",
      "   [0.5029297 ]]\n",
      "\n",
      "  [[0.49609375]\n",
      "   [0.5       ]\n",
      "   [0.49609375]\n",
      "   [0.5       ]]\n",
      "\n",
      "  [[0.5       ]\n",
      "   [0.5       ]\n",
      "   [0.5       ]\n",
      "   [0.50683594]]]\n",
      "\n",
      "\n",
      " [[[0.5       ]\n",
      "   [0.49609375]\n",
      "   [0.5       ]\n",
      "   [0.5       ]]\n",
      "\n",
      "  [[0.5       ]\n",
      "   [0.5       ]\n",
      "   [0.5       ]\n",
      "   [0.51464844]]\n",
      "\n",
      "  [[0.5       ]\n",
      "   [0.4921875 ]\n",
      "   [0.5       ]\n",
      "   [0.5       ]]\n",
      "\n",
      "  [[0.5       ]\n",
      "   [0.5       ]\n",
      "   [0.5       ]\n",
      "   [0.5       ]]]]\n"
     ]
    }
   ],
   "source": [
    "print(output_buffer)"
   ]
  },
  {
   "cell_type": "code",
   "execution_count": null,
   "id": "31e1098e",
   "metadata": {},
   "outputs": [],
   "source": [
    "# convert it to numpy array\n",
    "print(\"we got output shape:\", output_buffer.shape)\n",
    "outNp = np.array(output_buffer)"
   ]
  },
  {
   "cell_type": "code",
   "execution_count": null,
   "id": "9bf5d406",
   "metadata": {},
   "outputs": [],
   "source": [
    "# save it to .npy file\n",
    "np.save(\"out_hw.npy\", outNp)"
   ]
  }
 ],
 "metadata": {
  "kernelspec": {
   "display_name": "Python 3 (ipykernel)",
   "language": "python",
   "name": "python3"
  },
  "language_info": {
   "codemirror_mode": {
    "name": "ipython",
    "version": 3
   },
   "file_extension": ".py",
   "mimetype": "text/x-python",
   "name": "python",
   "nbconvert_exporter": "python",
   "pygments_lexer": "ipython3",
   "version": "3.10.4"
  }
 },
 "nbformat": 4,
 "nbformat_minor": 5
}
